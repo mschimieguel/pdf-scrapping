{
 "cells": [
  {
   "cell_type": "code",
   "execution_count": 1,
   "metadata": {},
   "outputs": [],
   "source": [
    "import re\n",
    "import os"
   ]
  },
  {
   "cell_type": "code",
   "execution_count": 2,
   "metadata": {},
   "outputs": [],
   "source": [
    "filename = 'example.pdf'\n",
    "file = open(filename,'rb')"
   ]
  },
  {
   "cell_type": "code",
   "execution_count": 3,
   "metadata": {},
   "outputs": [],
   "source": [
    "text = file.read()"
   ]
  },
  {
   "cell_type": "code",
   "execution_count": 4,
   "metadata": {},
   "outputs": [],
   "source": [
    "string = str(text)"
   ]
  },
  {
   "cell_type": "code",
   "execution_count": 5,
   "metadata": {},
   "outputs": [],
   "source": [
    "string = string.replace(' ','')\n",
    "string = string.replace('\\n','')"
   ]
  },
  {
   "cell_type": "code",
   "execution_count": 6,
   "metadata": {},
   "outputs": [],
   "source": [
    "string_splited = string.split(r\"Faturamento\")"
   ]
  },
  {
   "cell_type": "code",
   "execution_count": 7,
   "metadata": {},
   "outputs": [],
   "source": [
    "dados = re.findall('\\(\\d+,\\d+\\)',string_splited[1])"
   ]
  },
  {
   "cell_type": "code",
   "execution_count": 8,
   "metadata": {},
   "outputs": [],
   "source": [
    "data =  re.findall('\\(\\d+/\\d+/\\d+\\)',string)"
   ]
  },
  {
   "cell_type": "code",
   "execution_count": 9,
   "metadata": {},
   "outputs": [],
   "source": [
    "for i in range(len(dados)):\n",
    "    dados[i] = float (dados[i].replace(',','.').replace('(','').replace(')',''))\n",
    "data[0] = data[0].replace('(','').replace(')','')"
   ]
  },
  {
   "cell_type": "code",
   "execution_count": 10,
   "metadata": {
    "scrolled": true
   },
   "outputs": [
    {
     "data": {
      "text/plain": [
       "[24.97,\n",
       " 26.32,\n",
       " 7.57,\n",
       " 7.98,\n",
       " 20.38,\n",
       " 21.49,\n",
       " 32.44,\n",
       " 34.19,\n",
       " 4.11,\n",
       " 4.33,\n",
       " 94.87,\n",
       " 100.0,\n",
       " 5.4,\n",
       " 5.69]"
      ]
     },
     "execution_count": 10,
     "metadata": {},
     "output_type": "execute_result"
    }
   ],
   "source": [
    "dados"
   ]
  },
  {
   "cell_type": "code",
   "execution_count": 11,
   "metadata": {},
   "outputs": [],
   "source": [
    "info = [('data',data[0]),('Energia:',dados[0]),('Encargos Setoriais:',dados[2]),('Distribuicao:',dados[4]),('Tributos',dados[6]),('Transmissao:',dados[8]),('Perdas:',dados[12]),('Totais:',dados[10])]"
   ]
  },
  {
   "cell_type": "code",
   "execution_count": 12,
   "metadata": {},
   "outputs": [
    {
     "data": {
      "text/plain": [
       "[('data', '23/02/2016'),\n",
       " ('Energia:', 24.97),\n",
       " ('Encargos Setoriais:', 7.57),\n",
       " ('Distribuicao:', 20.38),\n",
       " ('Tributos', 32.44),\n",
       " ('Transmissao:', 4.11),\n",
       " ('Perdas:', 5.4),\n",
       " ('Totais:', 94.87)]"
      ]
     },
     "execution_count": 12,
     "metadata": {},
     "output_type": "execute_result"
    }
   ],
   "source": [
    "info"
   ]
  }
 ],
 "metadata": {
  "kernelspec": {
   "display_name": "Python 3",
   "language": "python",
   "name": "python3"
  },
  "language_info": {
   "codemirror_mode": {
    "name": "ipython",
    "version": 3
   },
   "file_extension": ".py",
   "mimetype": "text/x-python",
   "name": "python",
   "nbconvert_exporter": "python",
   "pygments_lexer": "ipython3",
   "version": "3.6.9"
  }
 },
 "nbformat": 4,
 "nbformat_minor": 2
}
